{
 "cells": [
  {
   "cell_type": "markdown",
   "metadata": {},
   "source": [
    "# Comparison between SVM and Decision Tree classification\n",
    "I am going to compare SVM and Decision Trees on classification of handwritten digits."
   ]
  },
  {
   "cell_type": "code",
   "execution_count": 1,
   "metadata": {},
   "outputs": [
    {
     "name": "stderr",
     "output_type": "stream",
     "text": [
      "/home/amin/anaconda3/lib/python3.7/site-packages/sklearn/ensemble/weight_boosting.py:29: DeprecationWarning: numpy.core.umath_tests is an internal NumPy module and should not be imported. It will be removed in a future NumPy release.\n",
      "  from numpy.core.umath_tests import inner1d\n"
     ]
    }
   ],
   "source": [
    "%matplotlib inline\n",
    "import matplotlib\n",
    "import numpy as np\n",
    "import matplotlib.pyplot as plt\n",
    "import math\n",
    "from sklearn import datasets\n",
    "from sklearn import svm\n",
    "from sklearn import tree\n",
    "from sklearn.ensemble import BaggingClassifier\n",
    "from sklearn.ensemble import AdaBoostClassifier"
   ]
  },
  {
   "cell_type": "markdown",
   "metadata": {},
   "source": [
    "## Loading the data"
   ]
  },
  {
   "cell_type": "code",
   "execution_count": 4,
   "metadata": {},
   "outputs": [],
   "source": [
    "digits = datasets.load_digits()"
   ]
  },
  {
   "cell_type": "markdown",
   "metadata": {},
   "source": [
    "## Creating the classifiers\n",
    "AdaBoost is used with an ensemble of tree calssifiers with maximum depth of one:"
   ]
  },
  {
   "cell_type": "code",
   "execution_count": 5,
   "metadata": {},
   "outputs": [],
   "source": [
    "clfsvm = svm.SVC(gamma=0.001, C=100.)\n",
    "clftree = AdaBoostClassifier(tree.DecisionTreeClassifier(criterion=\"entropy\", max_depth=1), n_estimators=100)"
   ]
  },
  {
   "cell_type": "markdown",
   "metadata": {},
   "source": [
    "## Running the classifier on the dataset\n",
    "I have selected the first `tsetlen` elements as the training set, and the rest are checked.\n",
    "Growing the training set, I expect to see better predictions.\n",
    "The percentage of misses are stored in `results`, and later used for the report plot."
   ]
  },
  {
   "cell_type": "code",
   "execution_count": 8,
   "metadata": {},
   "outputs": [],
   "source": [
    "a = list(range(50,1400,80))\n",
    "svm_results = []\n",
    "tree_results = []\n",
    "for tsetlen in a:\n",
    "    clftree.fit(digits.data[:tsetlen], digits.target[:tsetlen])\n",
    "    predicted = clftree.predict(digits.data)\n",
    "    tsize = len(digits.target)\n",
    "    missed = [i for i in range(tsize) if digits.target[i] != predicted[i]]\n",
    "    mlen = len(missed)\n",
    "    tree_results.append(100*mlen/(tsize - tsetlen))\n",
    "    \n",
    "    clfsvm.fit(digits.data[:tsetlen], digits.target[:tsetlen])\n",
    "    predicted = clfsvm.predict(digits.data)\n",
    "    tsize = len(digits.target)\n",
    "    missed = [i for i in range(tsize) if digits.target[i] != predicted[i]]\n",
    "    mlen = len(missed)\n",
    "    svm_results.append(100*mlen/(tsize - tsetlen))    "
   ]
  },
  {
   "cell_type": "markdown",
   "metadata": {},
   "source": [
    "## results\n",
    "The results are shown in below figure. Although increasing the size of training set decreases the percentage of misses, there is a best size for each classifier's traing set.\n",
    "\n",
    "It is also shown that the SVM classifier outperforms the Decision Tree classifier."
   ]
  },
  {
   "cell_type": "code",
   "execution_count": 9,
   "metadata": {},
   "outputs": [
    {
     "name": "stderr",
     "output_type": "stream",
     "text": [
      "/home/amin/anaconda3/lib/python3.7/site-packages/matplotlib/cbook/deprecation.py:107: MatplotlibDeprecationWarning: Adding an axes using the same arguments as a previous axes currently reuses the earlier instance.  In a future version, a new instance will always be created and returned.  Meanwhile, this warning can be suppressed, and the future behavior ensured, by passing a unique label to each axes instance.\n",
      "  warnings.warn(message, mplDeprecation, stacklevel=1)\n"
     ]
    },
    {
     "data": {
      "image/png": "[encoded data removed]",
      "text/plain": [
       "<Figure size 432x288 with 1 Axes>"
      ]
     },
     "metadata": {
      "needs_background": "light"
     },
     "output_type": "display_data"
    }
   ],
   "source": [
    "fig1 = plt.figure()\n",
    "plt.plot(a, tree_results, 'b.-', label='boosted trees')\n",
    "plt.plot(a, svm_results, 'r.-', label='svm')\n",
    "plt.legend(loc='best')\n",
    "ax = fig1.add_subplot(111)\n",
    "ax.set_xlabel('size of training set')\n",
    "ax.set_ylabel('miss percentage')\n",
    "plt.show()"
   ]
  }
 ],
 "metadata": {
  "kernelspec": {
   "display_name": "Python 3",
   "language": "python",
   "name": "python3"
  },
  "language_info": {
   "codemirror_mode": {
    "name": "ipython",
    "version": 3
   },
   "file_extension": ".py",
   "mimetype": "text/x-python",
   "name": "python",
   "nbconvert_exporter": "python",
   "pygments_lexer": "ipython3",
   "version": "3.7.0"
  }
 },
 "nbformat": 4,
 "nbformat_minor": 2
}
